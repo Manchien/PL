{
 "cells": [
  {
   "cell_type": "code",
   "execution_count": 1,
   "id": "30dceb4b",
   "metadata": {},
   "outputs": [
    {
     "name": "stdout",
     "output_type": "stream",
     "text": [
      "['理想', '現實']\n",
      "[['美好', '三棟房子', '高薪', '一貓一狗', '環遊世界', '早睡早起', '不用天天上班'], ['殘酷', '宿舍', '時薪168', '翹腳的室友', '打傳說', '睡到中午', '社畜']]\n",
      "不用天天上班\n",
      "{'理想': ['美好', '三棟房子', '高薪', '一貓一狗', '環遊世界', '早睡早起', '不用天天上班'], '現實': ['殘酷', '宿舍', '時薪168', '翹腳的室友', '打傳說', '睡到中午', '社畜']}\n"
     ]
    }
   ],
   "source": [
    "d={\"理想\":[\"美好\",\"三棟房子\",\"高薪\",\"一貓一狗\",\"環遊世界\",\"早睡早起\", \"不用天天上班\"],\n",
    "   \"現實\":[\"殘酷\",\"宿舍\",\"時薪168\",\"翹腳的室友\",\"打傳說\",\"睡到中午\",\"社畜\"]}\n",
    "\n",
    "\n",
    "l1=list(d.keys())#主標題\n",
    "print(l1)\n",
    "l2=list(d.values())#標題裡的內容\n",
    "print(l2)\n",
    "\n",
    "\n",
    "print(d[\"理想\"][6])#挑選\n",
    "\n",
    "d[\"現實\"]=[\"殘酷\",\"宿舍\",\"時薪168\",\"翹腳的室友\",\"打傳說\",\"睡到中午\",\"社畜\"]\n",
    "print(d)"
   ]
  },
  {
   "cell_type": "code",
   "execution_count": null,
   "id": "f689b613",
   "metadata": {},
   "outputs": [],
   "source": []
  }
 ],
 "metadata": {
  "kernelspec": {
   "display_name": "Python 3 (ipykernel)",
   "language": "python",
   "name": "python3"
  },
  "language_info": {
   "codemirror_mode": {
    "name": "ipython",
    "version": 3
   },
   "file_extension": ".py",
   "mimetype": "text/x-python",
   "name": "python",
   "nbconvert_exporter": "python",
   "pygments_lexer": "ipython3",
   "version": "3.9.12"
  }
 },
 "nbformat": 4,
 "nbformat_minor": 5
}
