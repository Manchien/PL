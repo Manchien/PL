{
 "cells": [
  {
   "cell_type": "code",
   "execution_count": 2,
   "id": "4c2a6be9",
   "metadata": {},
   "outputs": [],
   "source": [
    "str1='刑法第二百八十四條第一項前段之過失傷害罪，法定刑為六月以下有期徒刑、拘役或五百元以下罰金，本條雖未經修正，然據修正後刑法施行法增訂第一條之一：「中華民國九十四年一月七日刑法修正施行後，刑法分則編所定罰金之貨幣單位為新臺幣。九十四年一月七日刑法修正時，刑法分則編未修正之條文定有罰金者，自九十四年一月七日刑法修正施行後，就其所定數額提高為三十倍。'"
   ]
  },
  {
   "cell_type": "code",
   "execution_count": 3,
   "id": "409b4559",
   "metadata": {},
   "outputs": [
    {
     "name": "stdout",
     "output_type": "stream",
     "text": [
      "刑法第二百八十四條第一項前段之過失傷害罪，法定刑為六月以下有期徒刑、拘役或五百元以下罰金，本條雖未經修正，然據修正後刑法施行法增訂第一條之一：「中華民國九十四年一月七日刑法修正施行後，刑法分則編所定罰金之貨幣單位為新臺幣。九十四年一月七日刑法修正時，刑法分則編未修正之條文定有罰金者，自九十四年一月七日刑法修正施行後，就其所定數額提高為三十倍。\n"
     ]
    }
   ],
   "source": [
    "print(str1)"
   ]
  },
  {
   "cell_type": "code",
   "execution_count": 11,
   "id": "e3f2cbcc",
   "metadata": {},
   "outputs": [],
   "source": [
    "money=500\n",
    "year=6"
   ]
  },
  {
   "cell_type": "code",
   "execution_count": 12,
   "id": "fe834de6",
   "metadata": {},
   "outputs": [
    {
     "name": "stdout",
     "output_type": "stream",
     "text": [
      "罰金 400 元\n"
     ]
    }
   ],
   "source": [
    "print(\"罰金\",money,\"元\")"
   ]
  }
 ],
 "metadata": {
  "kernelspec": {
   "display_name": "Python 3 (ipykernel)",
   "language": "python",
   "name": "python3"
  },
  "language_info": {
   "codemirror_mode": {
    "name": "ipython",
    "version": 3
   },
   "file_extension": ".py",
   "mimetype": "text/x-python",
   "name": "python",
   "nbconvert_exporter": "python",
   "pygments_lexer": "ipython3",
   "version": "3.9.12"
  }
 },
 "nbformat": 4,
 "nbformat_minor": 5
}
