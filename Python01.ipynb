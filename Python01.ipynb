{
 "cells": [
  {
   "cell_type": "code",
   "execution_count": 10,
   "id": "58493da4",
   "metadata": {},
   "outputs": [
    {
     "name": "stdout",
     "output_type": "stream",
     "text": [
      "事件： 車禍肇事判賠\n",
      "原告需賠償金額: 7706 元\n",
      "被告需賠償金額: 17981 元\n"
     ]
    }
   ],
   "source": [
    "#練習1\n",
    "str1=\"車禍肇事判賠\"\n",
    "money1=25688\n",
    "a1=(money1/10)*3\n",
    "b1=(money1/10)*7\n",
    "print(\"事件：\",str1)\n",
    "print(\"原告需賠償金額:\",int(a1),\"元\")\n",
    "print(\"被告需賠償金額:\",int(b1),\"元\")"
   ]
  },
  {
   "cell_type": "code",
   "execution_count": 16,
   "id": "cb899bc0",
   "metadata": {},
   "outputs": [
    {
     "name": "stdout",
     "output_type": "stream",
     "text": [
      "總共償還金額 12608 元。\n"
     ]
    }
   ],
   "source": [
    "#練習2\n",
    "money2=11805\n",
    "day_rate2=0.0005\n",
    "month1=150\n",
    "month2=300\n",
    "total2=(money2*(1+day_rate2)**59)+month1+month2\n",
    "print(\"總共償還金額\", int(total2), \"元。\")"
   ]
  },
  {
   "cell_type": "code",
   "execution_count": 19,
   "id": "542cefdb",
   "metadata": {},
   "outputs": [
    {
     "name": "stdout",
     "output_type": "stream",
     "text": [
      "請輸入案件:(被告闖紅燈/原告闖紅燈/被告原告皆闖紅燈)被告原告皆闖紅燈\n",
      "原告50%被告50%\n"
     ]
    }
   ],
   "source": [
    "#練習3\n",
    "event=input(\"請輸入案件:(被告闖紅燈/原告闖紅燈/被告原告皆闖紅燈)\")\n",
    "if event ==\"被告闖紅燈\":\n",
    "    print(\"被告賠100%\")\n",
    "elif event ==\"原告闖紅燈\":\n",
    "    print(\"原告多被告少\")\n",
    "elif event==\"被告原告皆闖紅燈\":\n",
    "    print(\"原告50%被告50%\")\n",
    "else:\n",
    "    print(\"請填入有效訊息\")"
   ]
  }
 ],
 "metadata": {
  "kernelspec": {
   "display_name": "Python 3 (ipykernel)",
   "language": "python",
   "name": "python3"
  },
  "language_info": {
   "codemirror_mode": {
    "name": "ipython",
    "version": 3
   },
   "file_extension": ".py",
   "mimetype": "text/x-python",
   "name": "python",
   "nbconvert_exporter": "python",
   "pygments_lexer": "ipython3",
   "version": "3.9.12"
  }
 },
 "nbformat": 4,
 "nbformat_minor": 5
}
