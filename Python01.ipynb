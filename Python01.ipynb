{
 "cells": [
  {
   "cell_type": "code",
   "execution_count": 2,
   "id": "4c2a6be9",
   "metadata": {},
   "outputs": [],
   "source": [
    "str1='刑法第二百八十四條第一項前段之過失傷害罪，法定刑為六月以下有期徒刑、拘役或五百元以下罰金，本條雖未經修正，然據修正後刑法施行法增訂第一條之一：「中華民國九十四年一月七日刑法修正施行後，刑法分則編所定罰金之貨幣單位為新臺幣。九十四年一月七日刑法修正時，刑法分則編未修正之條文定有罰金者，自九十四年一月七日刑法修正施行後，就其所定數額提高為三十倍。'"
   ]
  },
  {
   "cell_type": "code",
   "execution_count": 3,
   "id": "8fd4d724",
   "metadata": {},
   "outputs": [
    {
     "name": "stdout",
     "output_type": "stream",
     "text": [
      "刑法第二百八十四條第一項前段之過失傷害罪，法定刑為六月以下有期徒刑、拘役或五百元以下罰金，本條雖未經修正，然據修正後刑法施行法增訂第一條之一：「中華民國九十四年一月七日刑法修正施行後，刑法分則編所定罰金之貨幣單位為新臺幣。九十四年一月七日刑法修正時，刑法分則編未修正之條文定有罰金者，自九十四年一月七日刑法修正施行後，就其所定數額提高為三十倍。\n"
     ]
    }
   ],
   "source": [
    "print(str1)"
   ]
  },
  {
   "cell_type": "code",
   "execution_count": 4,
   "id": "3f8f3268",
   "metadata": {},
   "outputs": [
    {
     "data": {
      "text/plain": [
       "'刑法第二百八十四條第一項前段之過失傷害罪，法定刑為六月以下有期徒刑、拘役或五百元以下罰金，本條雖未經修正，然據修正後刑法施行法增訂第一條之一：「中華民國九十四年一月七日刑法修正施行後，刑法分則編所定罰金之貨幣單位為新臺幣。九十四年一月七日刑法修正時，刑法分則編未修正之條文定有罰金者，自九十四年一月七日刑法修正施行後，就其所定數額提高為三十倍。'"
      ]
     },
     "execution_count": 4,
     "metadata": {},
     "output_type": "execute_result"
    }
   ],
   "source": [
    "str1"
   ]
  },
  {
   "cell_type": "code",
   "execution_count": 11,
   "id": "46a7a5f2",
   "metadata": {},
   "outputs": [],
   "source": [
    "money=400\n",
    "year=6"
   ]
  },
  {
   "cell_type": "code",
   "execution_count": 12,
   "id": "5ec1cbe3",
   "metadata": {},
   "outputs": [
    {
     "name": "stdout",
     "output_type": "stream",
     "text": [
      "罰金 400 元\n"
     ]
    }
   ],
   "source": [
    "print(\"罰金\",money,\"元\")"
   ]
  },
  {
   "cell_type": "code",
   "execution_count": null,
   "id": "069df014",
   "metadata": {},
   "outputs": [],
   "source": []
  }
 ],
 "metadata": {
  "kernelspec": {
   "display_name": "Python 3 (ipykernel)",
   "language": "python",
   "name": "python3"
  },
  "language_info": {
   "codemirror_mode": {
    "name": "ipython",
    "version": 3
   },
   "file_extension": ".py",
   "mimetype": "text/x-python",
   "name": "python",
   "nbconvert_exporter": "python",
   "pygments_lexer": "ipython3",
   "version": "3.9.12"
  }
 },
 "nbformat": 4,
 "nbformat_minor": 5
}
