{
 "cells": [
  {
   "cell_type": "code",
   "execution_count": 120,
   "id": "38d82524",
   "metadata": {},
   "outputs": [
    {
     "name": "stdout",
     "output_type": "stream",
     "text": [
      "給我一個0~6的數字：4\n",
      "理想： 環遊世界  v.s 現實： 打傳說\n"
     ]
    }
   ],
   "source": [
    "d={\"number\":[\"0\",\"1\",\"2\",\"3\",\"4\",\"5\",\"6\"],\n",
    "    \"理想\":[\"美好\",\"三棟房子\",\"高薪\",\"一貓一狗\",\"環遊世界\",\"早睡早起\", \"不用天天上班\"],\n",
    "   \"現實\":[\"殘酷\",\"宿舍\",\"時薪168\",\"翹腳的室友\",\"打傳說\",\"睡到中午\",\"社畜\"]}\n",
    "\n",
    "\n",
    "#l1=list(d.keys())        #主標題\n",
    "#print(l1)\n",
    "#l2=list(d.values())      #標題裡的內容\n",
    "#print(l2)\n",
    "\n",
    "#print(d[\"理想\"][0])      #挑選\n",
    "#d[\"現實\"]=[\"殘酷\",\"宿舍\",\"時薪168\",\"翹腳的室友\",\"打傳說\",\"睡到中午\",\"社畜\"]\n",
    "#print(d)\n",
    "\n",
    "number = input(\"給我一個0~6的數字：\")\n",
    "\n",
    "if number == d[\"number\"][0]:\n",
    "        print (\"理想：\", d[\"理想\"][0], \" v.s 現實：\", d[\"現實\"][0])\n",
    "if number == d[\"number\"][1]:\n",
    "        print (\"理想：\", d[\"理想\"][1], \" v.s 現實：\", d[\"現實\"][1])\n",
    "if number == d[\"number\"][2]:\n",
    "        print (\"理想：\", d[\"理想\"][2], \" v.s 現實：\", d[\"現實\"][2])\n",
    "if number == d[\"number\"][3]:\n",
    "        print (\"理想：\", d[\"理想\"][3], \" v.s 現實：\", d[\"現實\"][3])\n",
    "if number == d[\"number\"][4]:\n",
    "        print (\"理想：\", d[\"理想\"][4], \" v.s 現實：\", d[\"現實\"][4])\n",
    "if number == d[\"number\"][5]:\n",
    "        print (\"理想：\", d[\"理想\"][5], \" v.s 現實：\", d[\"現實\"][5])\n",
    "if number == d[\"number\"][6]:\n",
    "        print (\"理想：\", d[\"理想\"][6], \" v.s 現實：\", d[\"現實\"][6])"
   ]
  },
  {
   "cell_type": "code",
   "execution_count": 121,
   "id": "3714c135",
   "metadata": {},
   "outputs": [
    {
     "name": "stdout",
     "output_type": "stream",
     "text": [
      "給我一個0~6的數字：4\n",
      "end\n"
     ]
    }
   ],
   "source": [
    "d={\"number\":[\"0\",\"1\",\"2\",\"3\",\"4\",\"5\",\"6\"],\n",
    "    \"理想\":[\"美好\",\"三棟房子\",\"高薪\",\"一貓一狗\",\"環遊世界\",\"早睡早起\", \"不用天天上班\"],\n",
    "   \"現實\":[\"殘酷\",\"宿舍\",\"時薪168\",\"翹腳的室友\",\"打傳說\",\"睡到中午\",\"社畜\"]}\n",
    "\n",
    "\n",
    "##試著嘗試寫在一起但失敗了\n",
    "number = int(input(\"給我一個0~6的數字：\"))\n",
    "if number == d[\"number\"][number]:\n",
    "        print (\"理想：\", d[\"理想\"][number], \" v.s 現實：\", d[\"現實\"][number])\n",
    "else: \n",
    "        print(\"end\")"
   ]
  },
  {
   "cell_type": "code",
   "execution_count": null,
   "id": "30b04d87",
   "metadata": {},
   "outputs": [],
   "source": []
  }
 ],
 "metadata": {
  "kernelspec": {
   "display_name": "Python 3 (ipykernel)",
   "language": "python",
   "name": "python3"
  },
  "language_info": {
   "codemirror_mode": {
    "name": "ipython",
    "version": 3
   },
   "file_extension": ".py",
   "mimetype": "text/x-python",
   "name": "python",
   "nbconvert_exporter": "python",
   "pygments_lexer": "ipython3",
   "version": "3.9.12"
  }
 },
 "nbformat": 4,
 "nbformat_minor": 5
}
